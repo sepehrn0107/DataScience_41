{
 "cells": [
  {
   "cell_type": "markdown",
   "source": [
    "# This notebook creates an out of the review.csv and the listing.csv an estimation for a historic calendar. This calendar is the lower boundary."
   ],
   "metadata": {
    "collapsed": false
   }
  },
  {
   "cell_type": "code",
   "execution_count": 26,
   "outputs": [],
   "source": [
    "import pandas\n",
    "import warnings\n",
    "warnings.filterwarnings(\"ignore\")\n",
    "import matplotlib.pyplot as plt\n",
    "from datetime import date, timedelta, datetime\n",
    "import calendar"
   ],
   "metadata": {
    "collapsed": false
   }
  },
  {
   "cell_type": "markdown",
   "source": [
    "Set up the function."
   ],
   "metadata": {
    "collapsed": false
   }
  },
  {
   "cell_type": "code",
   "execution_count": 27,
   "metadata": {
    "collapsed": true
   },
   "outputs": [],
   "source": [
    "def crateBaseTabe(listingPath, reviewsPath, year):\n",
    "    \"\"\"\n",
    "    Creates a table that can be process by CreateCalendar. It will create the table for a specific year.\n",
    "    :param listingPath: the smaller listing.csv file\n",
    "    :param reviewsPath: the review.csv file\n",
    "    :return: a table with listing_id, date, minimum_nights, price, adjusted_price, maximum_nights\n",
    "    \"\"\"\n",
    "\n",
    "    tempListing = pandas.read_csv(listingPath)\n",
    "    dataframeReviews = pandas.read_csv(reviewsPath)\n",
    "    # # get rid of not needed columns and rows.\n",
    "    dataframeReviews = dataframeReviews[dataframeReviews[\"comments\"].str.contains(\"This is an automated posting\") == False]\n",
    "    dataframeReviews = dataframeReviews.drop('id', axis=1)\n",
    "    dataframeReviews = dataframeReviews.drop('reviewer_id', axis=1)\n",
    "    dataframeReviews = dataframeReviews.drop('reviewer_name', axis=1)\n",
    "    dataframeReviews = dataframeReviews.drop('comments', axis=1)\n",
    "    dataframeReviews = dataframeReviews[dataframeReviews['date'].astype(\"string\").str.contains(year)==True]\n",
    "    #creating the tabel with the right columns and joining the tables with a left join on id/listing_id.\n",
    "    dataframeListing = pandas.DataFrame()\n",
    "    dataframeListing['listing_id'] = tempListing['id']\n",
    "    dataframeListing['price'] = tempListing ['price']\n",
    "    dataframeListing['adjusted_price'] = tempListing ['price']\n",
    "    dataframeListing['minimum_nights'] = tempListing['minimum_nights']\n",
    "    dataframeListing['maximum_nights'] = tempListing['minimum_nights']\n",
    "    # joining the tables with a left join on id\n",
    "    table = pandas.merge(dataframeReviews, dataframeListing, how=\"left\", on=[\"listing_id\"])\n",
    "    return table\n",
    "\n",
    "def createTabelObjekt(listing_id, dateOfBooking, minimum_nights, price, adjusted_price, maximum_nights, year):\n",
    "    \"\"\"\n",
    "    This function creates, for a given apartment, a table with the availability.\n",
    "    :param year: the year of the table\n",
    "    :param listing_id: the apartment ID as a string\n",
    "    :param dateOfBooking: an index with the booking — see notAvailabilityList for the format.\n",
    "    :param minimum_nights: Sting\n",
    "    :param price: Sting\n",
    "    :param adjusted_price: Sting\n",
    "    :param maximum_nights: Sting\n",
    "    :return: a table with available of the appartment for each day\n",
    "    \"\"\"\n",
    "\n",
    "\n",
    "    def calculateAvailabile(dateList):\n",
    "        \"\"\"\n",
    "        This function checks the dateOfBooking list and calculate the occupied days\n",
    "        :param dateList: the list\n",
    "        :return: list of unavailable days\n",
    "        \"\"\"\n",
    "        print(dateList)\n",
    "        falseDates = []\n",
    "        for j in dateList:\n",
    "                if j[1] != 0:\n",
    "                    for k in range(int(j[1])):\n",
    "                        falseDates.append(str((datetime.strptime(j[0], '%Y-%m-%d')+ timedelta(days=k)).date()))\n",
    "        return falseDates\n",
    "\n",
    "    def printIfAvailabil(day):\n",
    "        \"\"\"\n",
    "        This function checks if a day is Anabel or not.\n",
    "        :param day: the day should be checked as str (YYYY-MM-DD)\n",
    "        :return: t for an available day and f for an unavailable day\n",
    "        \"\"\"\n",
    "        if str(day) in notAvailabileDays:\n",
    "            return 'f'\n",
    "        else:\n",
    "            return 't'\n",
    "    # call of the helper function\n",
    "    notAvailabileDays = calculateAvailabile (dateOfBooking)\n",
    "    # leap year?\n",
    "    yearDayCounter = 365 + calendar.isleap(int(year))\n",
    "    # crating the table that will be returned\n",
    "    collumsNames = {'listing_id': [], 'date': [], 'available':[], 'price':[], 'adjusted_price':[], 'minimum_nights':[], 'maximum_nights':[]}\n",
    "    for i in range(yearDayCounter):\n",
    "        k = printIfAvailabil((datetime.strptime((year+\"-01-01\"), '%Y-%m-%d')+ timedelta(days=i)).date())\n",
    "        collumsNames['listing_id'].append(listing_id)\n",
    "        collumsNames['date'].append((datetime.strptime((year+\"-01-01\"), '%Y-%m-%d')+ timedelta(days=i)).date())\n",
    "        collumsNames['available'].append(k)\n",
    "        collumsNames['price'].append(price)\n",
    "        collumsNames['adjusted_price'].append(adjusted_price)\n",
    "        collumsNames['minimum_nights'].append(minimum_nights)\n",
    "        collumsNames['maximum_nights'].append(maximum_nights)\n",
    "\n",
    "    returnTabel = pandas.DataFrame(collumsNames)\n",
    "    return returnTabel\n",
    "\n",
    "def notAvailabilityList(appartment, df):\n",
    "    \"\"\"\n",
    "    This function returns the list if bookings for an given appartment\n",
    "    :param appartment: the id of the appartment\n",
    "    :param df: the reviews dataframe\n",
    "    :return: a list of of bookings for the minimum nights\n",
    "    \"\"\"\n",
    "    tempList = []\n",
    "    for index in appartment:\n",
    "        row = df.iloc[index]\n",
    "        date = row['date']\n",
    "        minStay = row['minimum_nights']\n",
    "        tempList.append((date,minStay))\n",
    "    return tempList\n",
    "\n",
    "#that is the call --->(createTabelObjekt('123', {'2022-09-27' : 5}, '3','300','300','100','2019'))\n",
    "def plotPastAvailability(listing, reviews, year, savePath):\n",
    "    \"\"\"\n",
    "    This is the control function for the calculation and the plotting\n",
    "    :param listing: path to the listing file\n",
    "    :param reviews: path to the reviews file\n",
    "    :param year: the year of the plot\n",
    "    :param savePath: the saving path for the plot\n",
    "    :return: a plot as svg to the given path and the plt object\n",
    "    \"\"\"\n",
    "    df = crateBaseTabe(listing, reviews, year)\n",
    "    # all id of apartments\n",
    "    appartmentId = df['listing_id'].unique().tolist()\n",
    "    returnTable = pandas.DataFrame()\n",
    "    #iterrating over the unique list of apartments.\n",
    "    for appartment in appartmentId:\n",
    "        indexList = df[df['listing_id']==appartment].index.values\n",
    "        notAvailability = notAvailabilityList(indexList, df)\n",
    "        appartmentData = createTabelObjekt(appartment, notAvailability, df.iloc[indexList[0],0], df.iloc[indexList[0],0], df.iloc[indexList[0],0], df.iloc[indexList[0],0], year)\n",
    "        returnTable = returnTable.append(appartmentData, ignore_index=True)\n",
    "        print('objekt ', appartment, \" is done\")\n",
    "    # creating the Pivod table for the plot\n",
    "    dataframePivod = pandas.get_dummies(returnTable.pivot(index=\"date\", columns=\"listing_id\", values=\"available\"), prefix_sep='', prefix='').sum(axis=1, level=0)\n",
    "    dataframePivod['t'].plot()\n",
    "    plt.xticks(rotation=90)\n",
    "    # saving the plot\n",
    "    plt.savefig(savePath, transparent=True, dpi=600)\n",
    "    plt.show()\n",
    "    return plt"
   ]
  },
  {
   "cell_type": "markdown",
   "source": [
    "## Producing the Plots for Oslo"
   ],
   "metadata": {
    "collapsed": false
   }
  },
  {
   "cell_type": "code",
   "execution_count": null,
   "outputs": [],
   "source": [
    "smallListing = '../../data/Oslo/SmalListings.csv'\n",
    "reviews = '../../data/Oslo/reviews.csv'\n",
    "outPath = '../../data/Oslo/out/'\n",
    "\n",
    "plotPastAvailability(smallListing, reviews, '2011',outPath+'2011.svg')\n",
    "plotPastAvailability(smallListing, reviews, '2012',outPath+'2012.svg')\n",
    "plotPastAvailability(smallListing, reviews, '2013',outPath+'2013.svg')\n",
    "plotPastAvailability(smallListing, reviews, '2014',outPath+'2014.svg')\n",
    "plotPastAvailability(smallListing, reviews, '2015',outPath+'2015.svg')\n",
    "plotPastAvailability(smallListing, reviews, '2016',outPath+'2016.svg')\n",
    "plotPastAvailability(smallListing, reviews, '2017',outPath+'2017.svg')\n",
    "plotPastAvailability(smallListing, reviews, '2018',outPath+'2018.svg')\n",
    "plotPastAvailability(smallListing, reviews, '2019',outPath+'2019.svg')\n",
    "plotPastAvailability(smallListing, reviews, '2020',outPath+'2020.svg')\n",
    "plotPastAvailability(smallListing, reviews, '2021',outPath+'2021.svg')\n",
    "plotPastAvailability(smallListing, reviews, '2022',outPath+'2022.svg')"
   ],
   "metadata": {
    "collapsed": false,
    "pycharm": {
     "is_executing": true
    }
   }
  },
  {
   "cell_type": "markdown",
   "source": [
    "## Producing the Plots for Copenhagen"
   ],
   "metadata": {
    "collapsed": false
   }
  },
  {
   "cell_type": "code",
   "execution_count": null,
   "outputs": [],
   "source": [
    "smallListing = '../../data/Copenhagen/SmalListings.csv'\n",
    "reviews = '../../data/Copenhagen/reviews.csv'\n",
    "outPath = '../../data/Copenhagen/out/'\n",
    "\n",
    "plotPastAvailability(smallListing, reviews, '2011',outPath+'2009.svg')\n",
    "plotPastAvailability(smallListing, reviews, '2012',outPath+'2010.svg')\n",
    "plotPastAvailability(smallListing, reviews, '2011',outPath+'2011.svg')\n",
    "plotPastAvailability(smallListing, reviews, '2012',outPath+'2012.svg')\n",
    "plotPastAvailability(smallListing, reviews, '2013',outPath+'2013.svg')\n",
    "plotPastAvailability(smallListing, reviews, '2014',outPath+'2014.svg')\n",
    "plotPastAvailability(smallListing, reviews, '2015',outPath+'2015.svg')\n",
    "plotPastAvailability(smallListing, reviews, '2016',outPath+'2016.svg')\n",
    "plotPastAvailability(smallListing, reviews, '2017',outPath+'2017.svg')\n",
    "plotPastAvailability(smallListing, reviews, '2018',outPath+'2018.svg')\n",
    "plotPastAvailability(smallListing, reviews, '2019',outPath+'2019.svg')\n",
    "plotPastAvailability(smallListing, reviews, '2020',outPath+'2020.svg')\n",
    "plotPastAvailability(smallListing, reviews, '2021',outPath+'2021.svg')\n",
    "plotPastAvailability(smallListing, reviews, '2022',outPath+'2022.svg')"
   ],
   "metadata": {
    "collapsed": false,
    "pycharm": {
     "name": "#%%\n",
     "is_executing": true
    }
   }
  },
  {
   "cell_type": "markdown",
   "source": [
    "## Producing the Plots for Stockholm"
   ],
   "metadata": {
    "collapsed": false
   }
  },
  {
   "cell_type": "code",
   "execution_count": null,
   "outputs": [],
   "source": [
    "smallListing = '../../data/Stockholm/SmalListings.csv'\n",
    "reviews = '../../data/Stockholm/reviews.csv'\n",
    "outPath = '../../data/Stockholm/out/'\n",
    "\n",
    "plotPastAvailability(smallListing, reviews, '2011',outPath+'2011.svg')\n",
    "plotPastAvailability(smallListing, reviews, '2012',outPath+'2012.svg')\n",
    "plotPastAvailability(smallListing, reviews, '2013',outPath+'2013.svg')\n",
    "plotPastAvailability(smallListing, reviews, '2014',outPath+'2014.svg')\n",
    "plotPastAvailability(smallListing, reviews, '2015',outPath+'2015.svg')\n",
    "plotPastAvailability(smallListing, reviews, '2016',outPath+'2016.svg')\n",
    "plotPastAvailability(smallListing, reviews, '2017',outPath+'2017.svg')\n",
    "plotPastAvailability(smallListing, reviews, '2018',outPath+'2018.svg')\n",
    "plotPastAvailability(smallListing, reviews, '2019',outPath+'2019.svg')\n",
    "plotPastAvailability(smallListing, reviews, '2020',outPath+'2020.svg')\n",
    "plotPastAvailability(smallListing, reviews, '2021',outPath+'2021.svg')\n",
    "plotPastAvailability(smallListing, reviews, '2022',outPath+'2022.svg')"
   ],
   "metadata": {
    "collapsed": false,
    "pycharm": {
     "name": "#%%\n",
     "is_executing": true
    }
   }
  }
 ],
 "metadata": {
  "kernelspec": {
   "display_name": "Python 3",
   "language": "python",
   "name": "python3"
  },
  "language_info": {
   "codemirror_mode": {
    "name": "ipython",
    "version": 2
   },
   "file_extension": ".py",
   "mimetype": "text/x-python",
   "name": "python",
   "nbconvert_exporter": "python",
   "pygments_lexer": "ipython2",
   "version": "2.7.6"
  }
 },
 "nbformat": 4,
 "nbformat_minor": 0
}